{
  "nbformat": 4,
  "nbformat_minor": 0,
  "metadata": {
    "colab": {
      "provenance": [],
      "gpuType": "T4"
    },
    "kernelspec": {
      "name": "python3",
      "display_name": "Python 3"
    },
    "language_info": {
      "name": "python"
    },
    "accelerator": "GPU"
  },
  "cells": [
    {
      "cell_type": "code",
      "source": [
        "import numpy as np\n",
        "from enum import Enum\n",
        "import matplotlib.pyplot as plt"
      ],
      "metadata": {
        "id": "xdYUteZcjsF-"
      },
      "execution_count": 18,
      "outputs": []
    },
    {
      "cell_type": "code",
      "source": [
        "import torch\n",
        "import torch.nn as nn\n",
        "\n",
        "print(torch.cuda.is_available())"
      ],
      "metadata": {
        "id": "n81XkinvwOgs",
        "colab": {
          "base_uri": "https://localhost:8080/"
        },
        "outputId": "564b713a-48de-4f58-cf7a-a1c16857a825"
      },
      "execution_count": 19,
      "outputs": [
        {
          "output_type": "stream",
          "name": "stdout",
          "text": [
            "True\n"
          ]
        }
      ]
    },
    {
      "cell_type": "code",
      "execution_count": 20,
      "metadata": {
        "id": "TCpXpStlfcyq"
      },
      "outputs": [],
      "source": [
        "class SITE_TYPE(Enum):\n",
        "  HOME = \"HOME\"\n",
        "  POOR = \"POOR\"\n",
        "  GOOD = \"GOOD\""
      ]
    },
    {
      "cell_type": "code",
      "source": [
        "class ANT_STATE(Enum):\n",
        "  ASSESSING_HOME_SITE = \"ASSESSING_HOME_SITE\"\n",
        "  ASSESSING_POOR_SITE = \"ASSESSING_POOR_SITE\"\n",
        "  ASSESSING_GOOD_SITE = \"ASSESSING_GOOD_SITE\"\n",
        "  COMMITTED_TO_GOOD_SITE = \"COMMITTED_TO_GOOD_SITE\"\n",
        "  COMMITTED_TO_POOR_SITE = \"COMMITTED_TO_POOR_SITE\""
      ],
      "metadata": {
        "id": "7Zh73_QdlaBn"
      },
      "execution_count": 21,
      "outputs": []
    },
    {
      "cell_type": "code",
      "source": [
        "class Site:\n",
        "  def __init__(self, type, quality):\n",
        "    self.type = type\n",
        "    self.quality = quality"
      ],
      "metadata": {
        "id": "MrYTQ-vJfj43"
      },
      "execution_count": 22,
      "outputs": []
    },
    {
      "cell_type": "code",
      "source": [
        "class Ant:\n",
        "  def __init__(self, state, acceptance_threshold, a_nest=0, b_nest=0, assessment_error=None):\n",
        "    self.state = state\n",
        "    self.acceptance_threshold = acceptance_threshold\n",
        "    self.assessment_error = assessment_error\n",
        "    self.a_nest = a_nest\n",
        "    self.b_nest = b_nest"
      ],
      "metadata": {
        "id": "ZTKpE6t6hHvn"
      },
      "execution_count": 23,
      "outputs": []
    },
    {
      "cell_type": "code",
      "source": [
        "def initialize_home_site():\n",
        "  return Site(SITE_TYPE.HOME, float('-inf'))"
      ],
      "metadata": {
        "id": "Kb-8hgEQgxZi"
      },
      "execution_count": 24,
      "outputs": []
    },
    {
      "cell_type": "code",
      "source": [
        "def initialize_poor_site():\n",
        "  return Site(SITE_TYPE.POOR, 4)"
      ],
      "metadata": {
        "id": "jugKVobxhO4f"
      },
      "execution_count": 25,
      "outputs": []
    },
    {
      "cell_type": "code",
      "source": [
        "def initialize_good_site():\n",
        "  return Site(SITE_TYPE.GOOD, 6)"
      ],
      "metadata": {
        "id": "boPzeVG8jd5r"
      },
      "execution_count": 26,
      "outputs": []
    },
    {
      "cell_type": "code",
      "source": [
        "def get_random_point(mean, std_deviation):\n",
        "  return np.random.normal(loc=mean, scale=std_deviation)"
      ],
      "metadata": {
        "id": "8E3rPlvgkIfY"
      },
      "execution_count": 27,
      "outputs": []
    },
    {
      "cell_type": "code",
      "source": [
        "def initialize_ant():\n",
        "  return Ant(state = ANT_STATE.ASSESSING_HOME_SITE, acceptance_threshold=get_random_point(mean = 5, std_deviation= 1))"
      ],
      "metadata": {
        "id": "TKTPI3XRkrv8"
      },
      "execution_count": 28,
      "outputs": []
    },
    {
      "cell_type": "code",
      "source": [
        "transition_matrix = np.array([\n",
        "    [0.91, 0.06, 0.03],\n",
        "    [0.15, 0.80, 0.05],\n",
        "    [0.03, 0.06, 0.91]\n",
        "])"
      ],
      "metadata": {
        "id": "LK8OzAQqleqz"
      },
      "execution_count": 29,
      "outputs": []
    },
    {
      "cell_type": "code",
      "source": [
        "def choose_next_site(current_site):\n",
        "    current_index = {\n",
        "        SITE_TYPE.HOME: 0,\n",
        "        SITE_TYPE.POOR: 1,\n",
        "        SITE_TYPE.GOOD: 2\n",
        "    }[current_site.type]\n",
        "\n",
        "    probabilities = transition_matrix[current_index]\n",
        "\n",
        "    next_site_type = np.random.choice(\n",
        "        [SITE_TYPE.HOME, SITE_TYPE.POOR, SITE_TYPE.GOOD],\n",
        "        p=probabilities\n",
        "    )\n",
        "    if(next_site_type == SITE_TYPE.HOME):\n",
        "      next_site = initialize_home_site()\n",
        "    elif(next_site_type == SITE_TYPE.GOOD):\n",
        "      next_site = initialize_good_site()\n",
        "    else:\n",
        "      next_site = initialize_poor_site()\n",
        "    return next_site"
      ],
      "metadata": {
        "id": "Mo0zrP2rq-F8"
      },
      "execution_count": 30,
      "outputs": []
    },
    {
      "cell_type": "code",
      "source": [
        "def assess_site(ant, site):\n",
        "  if (ant.state == ANT_STATE.COMMITTED_TO_GOOD_SITE or ant.state == ANT_STATE.COMMITTED_TO_POOR_SITE):\n",
        "    return\n",
        "  else:\n",
        "    ant.assessment_error = get_random_point(0, 1)\n",
        "    if site.quality > (ant.acceptance_threshold + ant.assessment_error):\n",
        "      if site.type == SITE_TYPE.GOOD:\n",
        "        ant.state = ANT_STATE.COMMITTED_TO_GOOD_SITE\n",
        "      else:\n",
        "        ant.state = ANT_STATE.COMMITTED_TO_POOR_SITE\n",
        "    else:\n",
        "      return"
      ],
      "metadata": {
        "id": "ytLwrFcF7rs8"
      },
      "execution_count": 31,
      "outputs": []
    },
    {
      "cell_type": "code",
      "source": [
        "def simulate_single_ant(ant, site):\n",
        "  assess_site(ant, site)\n",
        "  if (ant.state == ANT_STATE.COMMITTED_TO_GOOD_SITE or ant.state == ANT_STATE.COMMITTED_TO_POOR_SITE):\n",
        "    return ant\n",
        "  else:\n",
        "    new_site = choose_next_site(site)\n",
        "    if new_site.type == SITE_TYPE.GOOD:\n",
        "      ant.a_nest = 1\n",
        "      ant.state = ANT_STATE.ASSESSING_GOOD_SITE\n",
        "    elif new_site.type == SITE_TYPE.POOR:\n",
        "      ant.b_nest = 1\n",
        "      ant.state = ANT_STATE.ASSESSING_POOR_SITE\n",
        "    simulate_single_ant(ant, new_site)"
      ],
      "metadata": {
        "id": "zxq0C5sk7s2U"
      },
      "execution_count": 32,
      "outputs": []
    },
    {
      "cell_type": "code",
      "source": [
        "def simulate():\n",
        "  new_ant = initialize_ant()\n",
        "  home_site = initialize_home_site()\n",
        "  simulate_single_ant(new_ant, home_site)\n",
        "  if new_ant.state == ANT_STATE.COMMITTED_TO_POOR_SITE:\n",
        "    return (ANT_STATE.COMMITTED_TO_POOR_SITE, new_ant.a_nest, new_ant.b_nest)\n",
        "  else:\n",
        "     return (ANT_STATE.COMMITTED_TO_GOOD_SITE, new_ant.a_nest, new_ant.b_nest)"
      ],
      "metadata": {
        "id": "WzAA_2WO8EpQ"
      },
      "execution_count": 33,
      "outputs": []
    },
    {
      "cell_type": "code",
      "source": [
        "good_site_ants = [0, 0]\n",
        "poor_site_ants = [0, 0]\n",
        "n = 27\n",
        "for i in range(n):\n",
        "  status, a_status, b_status = simulate()\n",
        "  if status == ANT_STATE.COMMITTED_TO_GOOD_SITE:\n",
        "    good_site_ants[0] += 1\n",
        "    good_site_ants[1] += b_status\n",
        "  else:\n",
        "    poor_site_ants[0] += 1\n",
        "    poor_site_ants[1] += a_status\n",
        "\n",
        "print(\"From \" + str(n) + \" ants, \" + str(good_site_ants[0]) + \" ants committed to the good site and \" + str(good_site_ants[1]) + \" came from bad site first.\")\n",
        "print(\"From \" + str(n) + \" ants, \" + str(poor_site_ants[0]) + \" ants committed to the poor site and \" + str(poor_site_ants[1]) + \" came from good site first.\")"
      ],
      "metadata": {
        "colab": {
          "base_uri": "https://localhost:8080/"
        },
        "id": "tyVyRB60W7u4",
        "outputId": "741a8e56-0d70-4f79-83d7-ea8fa7b49fe7"
      },
      "execution_count": 34,
      "outputs": [
        {
          "output_type": "stream",
          "name": "stdout",
          "text": [
            "From 27 ants, 12 ants committed to the good site and 7 came from bad site first.\n",
            "From 27 ants, 15 ants committed to the poor site and 0 came from good site first.\n"
          ]
        }
      ]
    },
    {
      "cell_type": "code",
      "source": [
        "# Plotting results.\n",
        "\n",
        "good_site = [good_site_ants[0] - good_site_ants[1], good_site_ants[1]]\n",
        "bad_site = [poor_site_ants[0] - poor_site_ants[1], poor_site_ants[1]]\n",
        "\n",
        "labels = ['Good Site', 'Poor Site']\n",
        "x = range(len(labels))\n",
        "width = 0.35\n",
        "\n",
        "fig, ax = plt.subplots()\n",
        "ax.bar(x, [good_site[0], bad_site[0]], width, label='Stayed')\n",
        "ax.bar(x, [good_site[1], bad_site[1]], width, bottom=[good_site[0], bad_site[0]], label='Came from Other Site')\n",
        "\n",
        "ax.set_ylabel('Number of Ants')\n",
        "ax.set_title('Ant Distribution at Good and Bad Sites')\n",
        "ax.set_xticks(x)\n",
        "ax.set_xticklabels(labels)\n",
        "ax.legend()\n",
        "\n",
        "plt.show()\n"
      ],
      "metadata": {
        "id": "k8ulQmFjXYhh",
        "colab": {
          "base_uri": "https://localhost:8080/",
          "height": 452
        },
        "outputId": "2167ad4c-d23c-4a63-fb69-0d8431a38110"
      },
      "execution_count": 38,
      "outputs": [
        {
          "output_type": "display_data",
          "data": {
            "text/plain": [
              "<Figure size 640x480 with 1 Axes>"
            ],
            "image/png": "[encoded data removed]"
          },
          "metadata": {}
        }
      ]
    }
  ]
}